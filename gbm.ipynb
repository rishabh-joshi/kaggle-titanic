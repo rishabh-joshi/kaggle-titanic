{
 "cells": [
  {
   "cell_type": "markdown",
   "metadata": {},
   "source": [
    "# Gradient Boosting Machine\n",
    "\n",
    "Training and tuning a gradient boosting model."
   ]
  },
  {
   "cell_type": "code",
   "execution_count": 3,
   "metadata": {
    "collapsed": true
   },
   "outputs": [],
   "source": [
    "import pandas as pd\n",
    "import numpy as np\n",
    "from sklearn.ensemble import GradientBoostingClassifier\n",
    "from sklearn.metrics import confusion_matrix, accuracy_score\n",
    "from sklearn.model_selection import train_test_split, cross_val_score"
   ]
  },
  {
   "cell_type": "markdown",
   "metadata": {},
   "source": [
    "## Reading the data"
   ]
  },
  {
   "cell_type": "code",
   "execution_count": null,
   "metadata": {
    "collapsed": true
   },
   "outputs": [],
   "source": [
    "train = pd.read_csv('clean_train.csv')\n",
    "test = pd.read_csv('clean_test.csv')"
   ]
  },
  {
   "cell_type": "code",
   "execution_count": 29,
   "metadata": {},
   "outputs": [],
   "source": [
    "train_X = train.values[:, 1:]\n",
    "train_y = train.values[:, 0]\n",
    "test_X = test.values[:, 1:]\n",
    "test_ID = test.values[:, 0]"
   ]
  },
  {
   "cell_type": "markdown",
   "metadata": {},
   "source": [
    "## Baseline Gradient Boosting Model\n",
    "\n",
    "We fit a gradient boosting model with all the default parameters and no tuning. This would serve as the baseline model and we would want our tuned model to perform better than this."
   ]
  },
  {
   "cell_type": "code",
   "execution_count": 65,
   "metadata": {},
   "outputs": [
    {
     "name": "stdout",
     "output_type": "stream",
     "text": [
      "The CV score (AUC) for the baseline model = 0.876249752426\n"
     ]
    }
   ],
   "source": [
    "np.random.seed(2018-1-7)\n",
    "gbm_base = GradientBoostingClassifier()\n",
    "scores = cross_val_score(gbm_base, train_X, train_y, cv = 10, scoring = 'roc_auc')\n",
    "print('The CV score (AUC) for the baseline model =', scores.mean())"
   ]
  },
  {
   "cell_type": "markdown",
   "metadata": {},
   "source": [
    "Training the base model on the full dataset to submit on Kaggle."
   ]
  },
  {
   "cell_type": "code",
   "execution_count": 66,
   "metadata": {},
   "outputs": [],
   "source": [
    "gbm_base.fit(train_X, train_y)\n",
    "pred_y = gbm_base.predict(test_X)\n",
    "pred_y\n",
    "submission_gbm_base = pd.DataFrame({'PassengerId' : test_ID, 'Survived' : pred_y})"
   ]
  },
  {
   "cell_type": "code",
   "execution_count": 67,
   "metadata": {},
   "outputs": [],
   "source": [
    "submission_gbm_base = submission_gbm_base.astype(np.int32)\n",
    "submission_gbm_base.to_csv('submission_gbm_base.csv', index = False)"
   ]
  },
  {
   "cell_type": "code",
   "execution_count": 52,
   "metadata": {},
   "outputs": [],
   "source": [
    "# X_train, X_test, y_train, y_test = train_test_split(X, y, test_size = 0.25)\n",
    "# gbm.fit(X, y)\n",
    "# gbm.fit(X_train, y_train)\n",
    "# pred_test = gbm.predict(X_test)\n",
    "# accuracy_score(y_test, pred_test)\n",
    "# confusion_matrix(y_test, pred_test)"
   ]
  }
 ],
 "metadata": {
  "kernelspec": {
   "display_name": "Python 3",
   "language": "python",
   "name": "python3"
  },
  "language_info": {
   "codemirror_mode": {
    "name": "ipython",
    "version": 3
   },
   "file_extension": ".py",
   "mimetype": "text/x-python",
   "name": "python",
   "nbconvert_exporter": "python",
   "pygments_lexer": "ipython3",
   "version": "3.6.1"
  }
 },
 "nbformat": 4,
 "nbformat_minor": 2
}
