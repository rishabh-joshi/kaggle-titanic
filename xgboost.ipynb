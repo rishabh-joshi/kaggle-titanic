{
 "cells": [
  {
   "cell_type": "markdown",
   "metadata": {},
   "source": [
    "# XGBoost"
   ]
  },
  {
   "cell_type": "code",
   "execution_count": 1,
   "metadata": {
    "collapsed": true
   },
   "outputs": [],
   "source": [
    "import xgboost as xgb\n",
    "from xgboost import XGBClassifier\n",
    "import pandas as pd\n",
    "import numpy as np\n",
    "from matplotlib import rcParams\n",
    "from sklearn import metrics\n",
    "from sklearn.model_selection import train_test_split, cross_val_score, GridSearchCV\n",
    "%matplotlib inline"
   ]
  },
  {
   "cell_type": "markdown",
   "metadata": {},
   "source": [
    "## Loading the data"
   ]
  },
  {
   "cell_type": "code",
   "execution_count": 2,
   "metadata": {
    "collapsed": true
   },
   "outputs": [],
   "source": [
    "train = pd.read_csv('clean_train.csv')\n",
    "test = pd.read_csv('clean_test.csv')"
   ]
  },
  {
   "cell_type": "code",
   "execution_count": 3,
   "metadata": {
    "collapsed": true
   },
   "outputs": [],
   "source": [
    "train_X = train.values[:, 1:]\n",
    "train_y = train.values[:, 0]\n",
    "test_X = test.values[:, 1:]\n",
    "test_ID = test.values[:, 0]"
   ]
  },
  {
   "cell_type": "markdown",
   "metadata": {},
   "source": [
    "### A function to test any model"
   ]
  },
  {
   "cell_type": "code",
   "execution_count": 4,
   "metadata": {
    "collapsed": true
   },
   "outputs": [],
   "source": [
    "def test_model(model, train_X = train_X, train_y = train_y, cv_folds=5, early_stopping_rounds=50):\n",
    "    \n",
    "    # Using cross validation to figure out the number of trees/number of boosting rounds\n",
    "    xgb_param = model.get_xgb_params()\n",
    "    xgtrain = xgb.DMatrix(train_X, label=train_y)\n",
    "\n",
    "    # perform cross validation for the given parameters on this model and return the error\n",
    "    cvresult = xgb.cv(xgb_param, xgtrain, nfold=cv_folds, metrics='auc',\n",
    "                      num_boost_round=model.get_params()['n_estimators'],  # no of rounds same as no of trees\n",
    "                      early_stopping_rounds=early_stopping_rounds)\n",
    "                    # CV error needs to decrease at least once in these many rounds.\n",
    "\n",
    "    # cvresult will return a pandas DataFrame containing the mean error (AUC here) for each iteration until \n",
    "    # the metric is increasing. Therefore, we know that after those iterations, the AUC doesn not increase, \n",
    "    # therefore we will set the n_estimators to be the number of rows in this data frame\n",
    "    model.set_params(n_estimators=cvresult.shape[0]) # sets the n_estimators parameter as justified above\n",
    "    \n",
    "    # Fit the algorithm on the data\n",
    "    model.fit(train_X, train_y, eval_metric='auc')\n",
    "        \n",
    "    # Predict training set:\n",
    "    dtrain_predictions = model.predict(train_X)\n",
    "    dtrain_predprob = model.predict_proba(train_X)[:,1]\n",
    "    \n",
    "    # Cross validated AUC Score\n",
    "    scores = cross_val_score(model, train_X, train_y, cv = cv_folds, scoring = 'roc_auc')\n",
    "        \n",
    "    # Print model report:\n",
    "    print (\"\\nModel Report\")\n",
    "    print (\"Optimal number of boosting iterations/number of trees =\", cvresult.shape[0])\n",
    "    print (\"Cross validated AUC Score (Train) : %.4g\" % scores.mean())\n",
    "    print (\"Accuracy (Train) : %.4g\" % metrics.accuracy_score(train_y, dtrain_predictions))\n",
    "    # print (\"AUC Score (Train): %f\" % metrics.roc_auc_score(train_y, dtrain_predprob))\n",
    "                    \n",
    "    # plotting feature imporatance scores\n",
    "    rcParams['figure.figsize'] = 6, 3 # increasing figure size to make the plot readable\n",
    "    xgb.plot_importance(model)"
   ]
  },
  {
   "cell_type": "markdown",
   "metadata": {},
   "source": [
    "### A function to generate submission file"
   ]
  },
  {
   "cell_type": "code",
   "execution_count": 5,
   "metadata": {
    "collapsed": true
   },
   "outputs": [],
   "source": [
    "def generate_submission_file(model, model_name):\n",
    "    pred_y = model.predict(test_X)\n",
    "    submission_model = pd.DataFrame({'PassengerId' : test_ID, 'Survived' : pred_y})\n",
    "    submission_model = submission_model.astype(np.int32)\n",
    "    submission_model.to_csv('submission_' + model_name + '.csv', index = False)"
   ]
  },
  {
   "cell_type": "markdown",
   "metadata": {},
   "source": [
    "### Baseline XGBoost Model\n",
    "\n",
    "I train the XGBoost model without any parameter tuning to setup a baseline."
   ]
  },
  {
   "cell_type": "code",
   "execution_count": 6,
   "metadata": {},
   "outputs": [
    {
     "name": "stdout",
     "output_type": "stream",
     "text": [
      "\n",
      "Model Report\n",
      "Optimal number of boosting iterations/number of trees = 28\n",
      "Cross validated AUC Score (Train) : 0.8665\n",
      "Accuracy (Train) : 0.8406\n"
     ]
    },
    {
     "data": {
      "image/png": "[encoded data removed]",
      "text/plain": [
       "<matplotlib.figure.Figure at 0x2045b5ce4e0>"
      ]
     },
     "metadata": {},
     "output_type": "display_data"
    }
   ],
   "source": [
    "np.random.seed(2017-1-7)\n",
    "xgb_base = XGBClassifier()\n",
    "test_model(xgb_base)"
   ]
  },
  {
   "cell_type": "markdown",
   "metadata": {},
   "source": [
    "#### Generating submission file for base model"
   ]
  },
  {
   "cell_type": "code",
   "execution_count": 7,
   "metadata": {
    "collapsed": true
   },
   "outputs": [],
   "source": [
    "generate_submission_file(xgb_base, 'xgb_base')"
   ]
  },
  {
   "cell_type": "markdown",
   "metadata": {},
   "source": [
    "## Tuning the XGBoost Model\n",
    "\n",
    "#### Step 1: Fix learning rate and tree-based parameters to for tuning number of estimators/trees"
   ]
  },
  {
   "cell_type": "code",
   "execution_count": 8,
   "metadata": {},
   "outputs": [
    {
     "name": "stdout",
     "output_type": "stream",
     "text": [
      "\n",
      "Model Report\n",
      "Optimal number of boosting iterations/number of trees = 58\n",
      "Cross validated AUC Score (Train) : 0.8678\n",
      "Accuracy (Train) : 0.8923\n"
     ]
    },
    {
     "data": {
      "image/png": "[encoded data removed]",
      "text/plain": [
       "<matplotlib.figure.Figure at 0x2046134df98>"
      ]
     },
     "metadata": {},
     "output_type": "display_data"
    }
   ],
   "source": [
    "xgb1 = XGBClassifier(\n",
    " learning_rate =0.1,\n",
    " n_estimators=1000,\n",
    " max_depth=5,\n",
    " min_child_weight=1,\n",
    " gamma=0,\n",
    " subsample=0.8,\n",
    " colsample_bytree=0.8,\n",
    " objective= 'binary:logistic',\n",
    " nthread=4,\n",
    " scale_pos_weight=1)\n",
    "\n",
    "test_model(xgb1)"
   ]
  },
  {
   "cell_type": "markdown",
   "metadata": {},
   "source": [
    "We got 58 as the optimal number of trees for 0.1 as the learning rate.\n",
    "\n",
    "#### Step 2: Tune `max_depth` and `min_child_weight`"
   ]
  },
  {
   "cell_type": "code",
   "execution_count": 40,
   "metadata": {},
   "outputs": [
    {
     "data": {
      "text/plain": [
       "({'max_depth': 13, 'min_child_weight': 1}, 0.87490549755255631)"
      ]
     },
     "execution_count": 40,
     "metadata": {},
     "output_type": "execute_result"
    }
   ],
   "source": [
    "param_test1 = {\n",
    " 'max_depth':range(1,20,2), # since this data set is small, we can afford to check each value from 1 to 20\n",
    " 'min_child_weight':range(1,20,2) # but these intervals should be less finer for large data sets\n",
    "}\n",
    "\n",
    "gsearch1 = GridSearchCV(estimator = XGBClassifier(learning_rate =0.1, n_estimators=58, max_depth=5,\n",
    "                                                  min_child_weight=1, gamma=0, subsample=0.8, \n",
    "                                                  colsample_bytree=0.8, objective= 'binary:logistic', \n",
    "                                                  nthread=4, scale_pos_weight=1, seed=27),\n",
    "                        param_grid = param_test1, scoring='roc_auc',n_jobs=4,iid=False, cv=10)\n",
    "\n",
    "gsearch1.fit(train_X, train_y)\n",
    "gsearch1.best_params_, gsearch1.best_score_"
   ]
  },
  {
   "cell_type": "markdown",
   "metadata": {},
   "source": [
    "The AUC increased from last time. Now, because we iterated in steps of 2 in the grids, we must check for optimal values in 12, 13, and 14. We do this as follows:"
   ]
  },
  {
   "cell_type": "code",
   "execution_count": 41,
   "metadata": {},
   "outputs": [
    {
     "data": {
      "text/plain": [
       "({'max_depth': 13, 'min_child_weight': 1}, 0.87490549755255631)"
      ]
     },
     "execution_count": 41,
     "metadata": {},
     "output_type": "execute_result"
    }
   ],
   "source": [
    "param_test2 = {\n",
    " 'max_depth':[12, 13, 14],\n",
    " 'min_child_weight':[0, 1, 2]\n",
    "}\n",
    "\n",
    "gsearch2 = GridSearchCV(estimator = XGBClassifier(learning_rate =0.1, n_estimators=58, max_depth=5,\n",
    "                                                  min_child_weight=1, gamma=0, subsample=0.8, \n",
    "                                                  colsample_bytree=0.8, objective= 'binary:logistic', \n",
    "                                                  nthread=4, scale_pos_weight=1, seed=27),\n",
    "                        param_grid = param_test1, scoring='roc_auc',n_jobs=4,iid=False, cv=10)\n",
    "\n",
    "gsearch2.fit(train_X, train_y)\n",
    "gsearch2.best_params_, gsearch2.best_score_"
   ]
  },
  {
   "cell_type": "markdown",
   "metadata": {},
   "source": [
    "Therefore, we confirm that 13 and 1 are indeed the optimal values for `max_depth` and `min_child_weight`. The cross validate AUC is 0.8749. Let's tune the other parameters.\n",
    "\n",
    "#### Step 3: Tune gamma"
   ]
  },
  {
   "cell_type": "code",
   "execution_count": 22,
   "metadata": {},
   "outputs": [
    {
     "data": {
      "text/plain": [
       "({'gamma': 0.6}, 0.87495645530939647)"
      ]
     },
     "execution_count": 22,
     "metadata": {},
     "output_type": "execute_result"
    }
   ],
   "source": [
    "param_test3 = {\n",
    " 'gamma':[i/10.0 for i in range(0,10)]\n",
    "}\n",
    "\n",
    "gsearch3 = GridSearchCV(estimator = XGBClassifier(learning_rate=0.1, n_estimators=58, max_depth=13,\n",
    "                                                  min_child_weight=1, gamma=0, subsample=0.8, \n",
    "                                                  colsample_bytree=0.8,\n",
    "                                                  objective= 'binary:logistic', nthread=4, \n",
    "                                                  scale_pos_weight=1, seed=27), \n",
    "                        param_grid = param_test3, scoring='roc_auc',n_jobs=4,iid=False, cv=10)\n",
    "\n",
    "gsearch3.fit(train_X, train_y)\n",
    "gsearch3.best_params_, gsearch3.best_score_"
   ]
  },
  {
   "cell_type": "markdown",
   "metadata": {},
   "source": [
    "Slight increase in AUC. Let't try to fine tune gamma around the 0.6."
   ]
  },
  {
   "cell_type": "code",
   "execution_count": 26,
   "metadata": {},
   "outputs": [
    {
     "data": {
      "text/plain": [
       "({'gamma': 0.55}, 0.87522018504371446)"
      ]
     },
     "execution_count": 26,
     "metadata": {},
     "output_type": "execute_result"
    }
   ],
   "source": [
    "param_test4 = {\n",
    " 'gamma':[i/100.0 for i in range(51,70)]\n",
    "}\n",
    "\n",
    "gsearch4 = GridSearchCV(estimator = XGBClassifier(learning_rate=0.1, n_estimators=58, max_depth=13,\n",
    "                                                  min_child_weight=1, gamma=0, subsample=0.8, \n",
    "                                                  colsample_bytree=0.8,\n",
    "                                                  objective= 'binary:logistic', nthread=4, \n",
    "                                                  scale_pos_weight=1, seed=27), \n",
    "                        param_grid = param_test4, scoring='roc_auc',n_jobs=4,iid=False, cv=10)\n",
    "\n",
    "gsearch4.fit(train_X, train_y)\n",
    "gsearch4.best_params_, gsearch4.best_score_"
   ]
  },
  {
   "cell_type": "markdown",
   "metadata": {},
   "source": [
    "There is much bigger increase in AUC after fine_tuning gamma. \n",
    "\n",
    "Before proceeding, a good idea would be to re-calibrate the number of boosting rounds for the updated parameters."
   ]
  },
  {
   "cell_type": "code",
   "execution_count": 27,
   "metadata": {},
   "outputs": [
    {
     "name": "stdout",
     "output_type": "stream",
     "text": [
      "\n",
      "Model Report\n",
      "Optimal number of boosting iterations/number of trees = 25\n",
      "Cross validated AUC Score (Train) : 0.8762\n",
      "Accuracy (Train) : 0.9035\n"
     ]
    },
    {
     "data": {
      "image/png": "[encoded data removed]",
      "text/plain": [
       "<matplotlib.figure.Figure at 0x204616bcba8>"
      ]
     },
     "metadata": {},
     "output_type": "display_data"
    }
   ],
   "source": [
    "xgb2 = XGBClassifier(\n",
    "    learning_rate=0.1,\n",
    "    n_estimators=1000,\n",
    "    max_depth=13,\n",
    "    min_child_weight=1,\n",
    "    gamma=0.55,\n",
    "    subsample=0.8,\n",
    "    colsample_bytree=0.8,\n",
    "    objective= 'binary:logistic',\n",
    "    nthread=4,\n",
    "    scale_pos_weight=1,\n",
    "    seed=27)\n",
    "\n",
    "test_model(xgb2)"
   ]
  },
  {
   "cell_type": "markdown",
   "metadata": {},
   "source": [
    "The number of trees have decreased to 25 now.\n",
    "\n",
    "#### Step 4: Tune subsample and colsample_bytree"
   ]
  },
  {
   "cell_type": "code",
   "execution_count": 28,
   "metadata": {},
   "outputs": [
    {
     "data": {
      "text/plain": [
       "({'colsample_bytree': 0.5, 'subsample': 0.7}, 0.87942200718671304)"
      ]
     },
     "execution_count": 28,
     "metadata": {},
     "output_type": "execute_result"
    }
   ],
   "source": [
    "param_test5 = {\n",
    " 'subsample':[i/10.0 for i in range(1,10)],\n",
    " 'colsample_bytree':[i/10.0 for i in range(1,10)]\n",
    "}\n",
    "gsearch5 = GridSearchCV(estimator = XGBClassifier(learning_rate=0.1, n_estimators=25, max_depth=13,\n",
    "                                                  min_child_weight=1, gamma=0.55, subsample=0.8, \n",
    "                                                  colsample_bytree=0.8, objective= 'binary:logistic', \n",
    "                                                  nthread=4, scale_pos_weight=1,seed=27), \n",
    "                        param_grid = param_test5, scoring='roc_auc',n_jobs=4,iid=False, cv=10)\n",
    "\n",
    "gsearch5.fit(train_X, train_y)\n",
    "gsearch5.best_params_, gsearch5.best_score_"
   ]
  },
  {
   "cell_type": "markdown",
   "metadata": {},
   "source": [
    "Again, fine tuning around the optimal values is a good idea."
   ]
  },
  {
   "cell_type": "code",
   "execution_count": 29,
   "metadata": {},
   "outputs": [
    {
     "data": {
      "text/plain": [
       "({'colsample_bytree': 0.61, 'subsample': 0.59}, 0.87982389723566201)"
      ]
     },
     "execution_count": 29,
     "metadata": {},
     "output_type": "execute_result"
    }
   ],
   "source": [
    "param_test6 = {\n",
    " 'subsample':[i/100.0 for i in range(41, 60)],\n",
    " 'colsample_bytree':[i/100.0 for i in range(61,80)]\n",
    "}\n",
    "gsearch6 = GridSearchCV(estimator = XGBClassifier(learning_rate=0.1, n_estimators=25, max_depth=13,\n",
    "                                                  min_child_weight=1, gamma=0.55, subsample=0.8, \n",
    "                                                  colsample_bytree=0.8, objective= 'binary:logistic', \n",
    "                                                  nthread=4, scale_pos_weight=1,seed=27), \n",
    "                        param_grid = param_test6, scoring='roc_auc',n_jobs=4,iid=False, cv=10)\n",
    "\n",
    "gsearch6.fit(train_X, train_y)\n",
    "gsearch6.best_params_, gsearch6.best_score_"
   ]
  },
  {
   "cell_type": "markdown",
   "metadata": {},
   "source": [
    "Fine tuning results in further increase in the AUC.\n",
    "\n",
    "#### Step 5: Tuning Regularization Parameters\n",
    "\n",
    "Regularization might decrease the AUC score but it also prevents overfitting and reduces variance. Therefore, a good idea will be to submit two solutions, one with regularizationm and one without to see which one performs better."
   ]
  },
  {
   "cell_type": "code",
   "execution_count": 31,
   "metadata": {},
   "outputs": [
    {
     "data": {
      "text/plain": [
       "({'reg_alpha': 0.01}, 0.87997362985598282)"
      ]
     },
     "execution_count": 31,
     "metadata": {},
     "output_type": "execute_result"
    }
   ],
   "source": [
    "param_test7 = {\n",
    " 'reg_alpha':[1e-5, 1e-2, 0.1, 1, 100]\n",
    "}\n",
    "gsearch7 = GridSearchCV(estimator = XGBClassifier( learning_rate =0.1, n_estimators=25, max_depth=13,\n",
    "                                                  min_child_weight=1, gamma=0.55, subsample=0.59, \n",
    "                                                  colsample_bytree=0.61, objective= 'binary:logistic', \n",
    "                                                  nthread=4, scale_pos_weight=1,seed=27), \n",
    "                        param_grid = param_test7, scoring='roc_auc',n_jobs=4,iid=False, cv=10)\n",
    "\n",
    "gsearch7.fit(train_X, train_y)\n",
    "gsearch7.best_params_, gsearch7.best_score_"
   ]
  },
  {
   "cell_type": "markdown",
   "metadata": {},
   "source": [
    "Here we find that regularization infact results in an increase in AUC. Fine tuning around the optimal value."
   ]
  },
  {
   "cell_type": "code",
   "execution_count": 33,
   "metadata": {},
   "outputs": [
    {
     "data": {
      "text/plain": [
       "({'reg_alpha': 0.006}, 0.88035865659395063)"
      ]
     },
     "execution_count": 33,
     "metadata": {},
     "output_type": "execute_result"
    }
   ],
   "source": [
    "param_test8 = {\n",
    " 'reg_alpha':[0, 0.001, 0.002, 0.003, 0.004, 0.005, 0.006, 0.007, 0.008, 0.009, 0.01, 0.02, 0.03, 0.04, 0.05]\n",
    "}\n",
    "gsearch8 = GridSearchCV(estimator = XGBClassifier( learning_rate =0.1, n_estimators=25, max_depth=13,\n",
    "                                                  min_child_weight=1, gamma=0.55, subsample=0.59, \n",
    "                                                  colsample_bytree=0.61, objective= 'binary:logistic', \n",
    "                                                  nthread=4, scale_pos_weight=1,seed=27), \n",
    "                        param_grid = param_test8, scoring='roc_auc',n_jobs=4,iid=False, cv=10)\n",
    "\n",
    "gsearch8.fit(train_X, train_y)\n",
    "gsearch8.best_params_, gsearch8.best_score_"
   ]
  },
  {
   "cell_type": "markdown",
   "metadata": {},
   "source": [
    "#### Looking at the impact of all the regularized parameters"
   ]
  },
  {
   "cell_type": "code",
   "execution_count": 34,
   "metadata": {},
   "outputs": [
    {
     "name": "stdout",
     "output_type": "stream",
     "text": [
      "\n",
      "Model Report\n",
      "Optimal number of boosting iterations/number of trees = 100\n",
      "Cross validated AUC Score (Train) : 0.874\n",
      "Accuracy (Train) : 0.9125\n"
     ]
    },
    {
     "data": {
      "image/png": "[encoded data removed]",
      "text/plain": [
       "<matplotlib.figure.Figure at 0x20460f9d7f0>"
      ]
     },
     "metadata": {},
     "output_type": "display_data"
    }
   ],
   "source": [
    "xgb3 = XGBClassifier(\n",
    "    learning_rate=0.1,\n",
    "    n_estimators=1000,\n",
    "    max_depth=13,\n",
    "    min_child_weight=1,\n",
    "    gamma=0.55,\n",
    "    subsample=0.59,\n",
    "    colsample_bytree=0.61,\n",
    "    reg_alpha=0.006,\n",
    "    objective= 'binary:logistic',\n",
    "    nthread=4,\n",
    "    scale_pos_weight=1, \n",
    "    seed=27)\n",
    "\n",
    "test_model(xgb3)"
   ]
  },
  {
   "cell_type": "markdown",
   "metadata": {},
   "source": [
    "#### Step 6: Reducing Learning Rate\n",
    "\n",
    "Lastly, we should lower the learning rate and add more trees. Lets use the cv function of XGBoost to do the job again."
   ]
  },
  {
   "cell_type": "code",
   "execution_count": 36,
   "metadata": {
    "scrolled": true
   },
   "outputs": [
    {
     "name": "stdout",
     "output_type": "stream",
     "text": [
      "\n",
      "Model Report\n",
      "Optimal number of boosting iterations/number of trees = 63\n",
      "Cross validated AUC Score (Train) : 0.8757\n",
      "Accuracy (Train) : 0.8878\n"
     ]
    },
    {
     "data": {
      "image/png": "[encoded data removed]",
      "text/plain": [
       "<matplotlib.figure.Figure at 0x204617ddcc0>"
      ]
     },
     "metadata": {},
     "output_type": "display_data"
    }
   ],
   "source": [
    "xgb4 = XGBClassifier(\n",
    "    learning_rate =0.05,\n",
    "    n_estimators=5000,\n",
    "    max_depth=13,\n",
    "    min_child_weight=1,\n",
    "    gamma=0.55,\n",
    "    subsample=0.59,\n",
    "    colsample_bytree=0.61,\n",
    "    reg_alpha=0.006,\n",
    "    objective= 'binary:logistic',\n",
    "    nthread=4,\n",
    "    scale_pos_weight=1,\n",
    "    seed=27)\n",
    "\n",
    "test_model(xgb4)"
   ]
  },
  {
   "cell_type": "code",
   "execution_count": 38,
   "metadata": {},
   "outputs": [
    {
     "data": {
      "text/plain": [
       "({'learning_rate': 0.003, 'n_estimators': 1000}, 0.87846724952607291)"
      ]
     },
     "execution_count": 38,
     "metadata": {},
     "output_type": "execute_result"
    }
   ],
   "source": [
    "param_test9 = {\n",
    " 'learning_rate':[0, 0.001, 0.002, 0.003, 0.004, 0.005, 0.006, 0.007, 0.008, 0.009, 0.01, 0.02, 0.03, 0.04, 0.05],\n",
    "    'n_estimators':[100, 500, 1000, 2000, 5000]\n",
    "}\n",
    "gsearch9 = GridSearchCV(estimator = XGBClassifier( learning_rate =0.1, n_estimators=25, max_depth=13,\n",
    "                                                  min_child_weight=1, gamma=0.55, subsample=0.59, \n",
    "                                                  colsample_bytree=0.61, objective= 'binary:logistic', \n",
    "                                                  nthread=4, scale_pos_weight=1,seed=27), \n",
    "                        param_grid = param_test9, scoring='roc_auc',n_jobs=4,iid=False, cv=10)\n",
    "\n",
    "gsearch9.fit(train_X, train_y)\n",
    "gsearch9.best_params_, gsearch8.best_score_"
   ]
  },
  {
   "cell_type": "markdown",
   "metadata": {},
   "source": [
    "## Final Prediction and submission"
   ]
  },
  {
   "cell_type": "code",
   "execution_count": 39,
   "metadata": {
    "collapsed": true
   },
   "outputs": [],
   "source": [
    "generate_submission_file(gsearch8, 'xgb_fine_tuned')"
   ]
  }
 ],
 "metadata": {
  "kernelspec": {
   "display_name": "Python 3",
   "language": "python",
   "name": "python3"
  },
  "language_info": {
   "codemirror_mode": {
    "name": "ipython",
    "version": 3
   },
   "file_extension": ".py",
   "mimetype": "text/x-python",
   "name": "python",
   "nbconvert_exporter": "python",
   "pygments_lexer": "ipython3",
   "version": "3.6.1"
  }
 },
 "nbformat": 4,
 "nbformat_minor": 2
}
